{
  "nbformat": 4,
  "nbformat_minor": 0,
  "metadata": {
    "colab": {
      "provenance": []
    },
    "kernelspec": {
      "name": "python3",
      "display_name": "Python 3"
    }
  },
  "cells": [
    {
      "cell_type": "markdown",
      "source": [
        "**Goal Conditioned Behavior Cloning**"
      ],
      "metadata": {
        "id": "YF6MFEiMaiay"
      }
    },
    {
      "cell_type": "code",
      "metadata": {
        "id": "MgHGKD-_iB3r",
        "colab": {
          "base_uri": "https://localhost:8080/"
        },
        "outputId": "33436767-603d-431b-94e1-b79ab7bbe994"
      },
      "source": [
        "from collections import OrderedDict\n",
        "import gym\n",
        "from gym import spaces\n",
        "import tensorflow as tf\n",
        "import keras\n",
        "from keras.models import Sequential\n",
        "from keras.layers import Dense\n",
        "import matplotlib.pyplot as plt\n",
        "import numpy as np\n",
        "import random\n",
        "from queue import Queue\n",
        "from scipy.ndimage import uniform_filter\n",
        "import copy"
      ],
      "execution_count": 25,
      "outputs": [
        {
          "output_type": "stream",
          "name": "stderr",
          "text": [
            "/usr/local/lib/python3.10/dist-packages/ipykernel/ipkernel.py:283: DeprecationWarning: `should_run_async` will not call `transform_cell` automatically in the future. Please pass the result to `transformed_cell` argument and any exception that happen during thetransform in `preprocessing_exc_tuple` in IPython 7.17 and above.\n",
            "  and should_run_async(code)\n"
          ]
        }
      ]
    },
    {
      "cell_type": "code",
      "metadata": {
        "id": "Cr7A-CqASErb"
      },
      "source": [
        "def make_model(input_dim=4, out_dim=2):\n",
        "  model = Sequential()\n",
        "  model.add(tf.keras.layers.Dense(10, input_shape=(input_dim,), activation='tanh'))\n",
        "  model.add(tf.keras.layers.Dense(out_dim, activation='softmax'))\n",
        "  model.compile(loss='categorical_crossentropy',\n",
        "                     optimizer='adam',\n",
        "                     metrics=['accuracy'])\n",
        "\n",
        "  # We expect the model to have four weight variables (a kernel and bias for\n",
        "  # both layers)\n",
        "  assert len(model.weights) == 4, 'Model should have 4 weights.'\n",
        "  return model"
      ],
      "execution_count": 17,
      "outputs": []
    },
    {
      "cell_type": "code",
      "metadata": {
        "id": "Y1iJByvzSp7_",
        "outputId": "c3017374-1557-48a1-d43c-ed1bbb156af1",
        "colab": {
          "base_uri": "https://localhost:8080/"
        }
      },
      "source": [
        "model = make_model()\n",
        "for t in range(20):\n",
        "  X = np.random.normal(size=(1000, 4))  # some random data\n",
        "  is_positive = np.sum(X, axis=1) > 0  # A simple binary function\n",
        "  Y = np.zeros((1000, 2))\n",
        "  Y[np.arange(1000), is_positive.astype(int)] = 1  # one-hot labels\n",
        "  history = model.fit(X, Y, epochs=10, batch_size=256, verbose=0)\n",
        "  loss = history.history['loss'][-1]\n",
        "  acc = history.history['accuracy'][-1]\n",
        "  print('(%d) loss= %.3f; accuracy = %.1f%%' % (t, loss, 100 * acc))"
      ],
      "execution_count": 18,
      "outputs": [
        {
          "output_type": "stream",
          "name": "stderr",
          "text": [
            "/usr/local/lib/python3.10/dist-packages/keras/src/layers/core/dense.py:87: UserWarning: Do not pass an `input_shape`/`input_dim` argument to a layer. When using Sequential models, prefer using an `Input(shape)` object as the first layer in the model instead.\n",
            "  super().__init__(activity_regularizer=activity_regularizer, **kwargs)\n"
          ]
        },
        {
          "output_type": "stream",
          "name": "stdout",
          "text": [
            "(0) loss= 0.633; accuracy = 64.6%\n",
            "(1) loss= 0.504; accuracy = 79.4%\n",
            "(2) loss= 0.413; accuracy = 85.1%\n",
            "(3) loss= 0.355; accuracy = 90.1%\n",
            "(4) loss= 0.295; accuracy = 92.8%\n",
            "(5) loss= 0.259; accuracy = 94.7%\n",
            "(6) loss= 0.227; accuracy = 95.2%\n",
            "(7) loss= 0.205; accuracy = 96.9%\n",
            "(8) loss= 0.181; accuracy = 96.7%\n",
            "(9) loss= 0.169; accuracy = 97.1%\n",
            "(10) loss= 0.152; accuracy = 99.0%\n",
            "(11) loss= 0.153; accuracy = 97.7%\n",
            "(12) loss= 0.141; accuracy = 98.3%\n",
            "(13) loss= 0.116; accuracy = 99.0%\n",
            "(14) loss= 0.107; accuracy = 99.3%\n",
            "(15) loss= 0.113; accuracy = 99.2%\n",
            "(16) loss= 0.089; accuracy = 99.2%\n",
            "(17) loss= 0.092; accuracy = 99.2%\n",
            "(18) loss= 0.086; accuracy = 99.4%\n",
            "(19) loss= 0.085; accuracy = 99.3%\n"
          ]
        }
      ]
    },
    {
      "cell_type": "markdown",
      "metadata": {
        "id": "5TwmVjbifRDx"
      },
      "source": [
        "**Build toy environments for sanity check (Four rooms environment)**\n",
        "\n",
        "The vector of scalar action `a` is defined as `self.act_set[a]`. The dynamics is to attempt to move current position `self.s` towards the next position by *adding* the action vector unless the next position is the wall. The reward is constant zero and not used in this problem.\n",
        "\n",
        "The episode will end in the two scenarios:\n",
        "- next position is exactly the goal: success\n",
        "- time is over `self.t == self.T`: failure\n",
        "\n",
        "\n"
      ]
    },
    {
      "cell_type": "code",
      "metadata": {
        "id": "PUFUvOMCfT-k",
        "outputId": "28fcfe47-e81e-47c5-a5d2-8b1d74bdbdf4",
        "colab": {
          "base_uri": "https://localhost:8080/",
          "height": 449
        }
      },
      "source": [
        "### 2.1 Build Goal-Conditioned Task\n",
        "class FourRooms:\n",
        "\tdef __init__(self, l=5, T=30):\n",
        "\t\t'''\n",
        "\t\tFourRooms Environment for pedagogic purposes\n",
        "\t\tEach room is a l*l square gridworld,\n",
        "\t\tconnected by four narrow corridors,\n",
        "\t\tthe center is at (l+1, l+1).\n",
        "\t\tThere are two kinds of walls:\n",
        "\t\t- borders: x = 0 and 2*l+2 and y = 0 and 2*l+2\n",
        "\t\t- central walls\n",
        "\t\tT: maximum horizion of one episode should be larger than O(4*l)\n",
        "\t\t'''\n",
        "\t\tassert l % 2 == 1 and l >= 5\n",
        "\t\tself.l = l\n",
        "\t\tself.total_l = 2 * l + 3\n",
        "\t\tself.T = T\n",
        "\n",
        "\t\t# create a map: zeros (walls) and ones (valid grids)\n",
        "\t\tself.map = np.ones((self.total_l, self.total_l), dtype=bool)\n",
        "\t\t# build walls\n",
        "\t\tself.map[0, :] = self.map[-1, :] = self.map[:, 0] = self.map[:, -1] = False\n",
        "\t\tself.map[l+1, [1,2,-3,-2]] = self.map[[1,2,-3,-2], l+1] = False\n",
        "\t\tself.map[l+1, l+1] = False\n",
        "\n",
        "\t\t# define action mapping (go right/up/left/down, counter-clockwise)\n",
        "\t\t# e.g [1, 0] means + 1 in x coordinate, no change in y coordinate hence\n",
        "\t\t# hence resulting in moving right\n",
        "\t\tself.act_set = np.array([\n",
        "\t\t\t[1, 0], [0, 1], [-1, 0], [0, -1]\n",
        "\t\t], dtype=int)\n",
        "\t\tself.action_space = spaces.Discrete(4)\n",
        "\n",
        "\t\t# you may use self.act_map in search algorithm\n",
        "\t\tself.act_map = {}\n",
        "\t\tself.act_map[(1, 0)] = 0\n",
        "\t\tself.act_map[(0, 1)] = 1\n",
        "\t\tself.act_map[(-1, 0)] = 2\n",
        "\t\tself.act_map[(0, -1)] = 3\n",
        "\n",
        "\tdef render_map(self):\n",
        "\t\tplt.imshow(self.map)\n",
        "\t\tplt.xlabel('y')\n",
        "\t\tplt.ylabel('x')\n",
        "\t\tplt.savefig('p2_map.png',\n",
        "\t\t\t\t\tbbox_inches='tight', pad_inches=0.1, dpi=300)\n",
        "\t\tplt.show()\n",
        "\n",
        "\tdef sample_sg(self):\n",
        "\t\t# sample s\n",
        "\t\twhile True:\n",
        "\t\t\ts = [np.random.randint(self.total_l),\n",
        "\t\t\t\tnp.random.randint(self.total_l)]\n",
        "\t\t\tif self.map[s[0], s[1]]:\n",
        "\t\t\t\tbreak\n",
        "\n",
        "\t\t# sample g\n",
        "\t\twhile True:\n",
        "\t\t\tg = [np.random.randint(self.total_l),\n",
        "\t\t\t\tnp.random.randint(self.total_l)]\n",
        "\t\t\tif self.map[g[0], g[1]] and \\\n",
        "\t\t\t\t(s[0] != g[0] or s[1] != g[1]):\n",
        "\t\t\t\tbreak\n",
        "\t\treturn s, g\n",
        "\n",
        "\tdef reset(self, s=None, g=None):\n",
        "\t\t'''\n",
        "\t\ts: starting position, np.array((2,))\n",
        "\t\tg: goal, np.array((2,))\n",
        "\t\treturn obs: np.cat(s, g)\n",
        "\t\t'''\n",
        "\t\tif s is None or g is None:\n",
        "\t\t\ts, g = self.sample_sg()\n",
        "\t\telse:\n",
        "\t\t\tassert 0 < s[0] < self.total_l - 1 and 0 < s[1] < self.total_l - 1\n",
        "\t\t\tassert 0 < g[0] < self.total_l - 1 and 0 < g[1] < self.total_l - 1\n",
        "\t\t\tassert (s[0] != g[0] or s[1] != g[1])\n",
        "\t\t\tassert self.map[s[0], s[1]] and self.map[g[0], g[1]]\n",
        "\n",
        "\t\tself.s = s\n",
        "\t\tself.g = g\n",
        "\t\tself.t = 1\n",
        "\n",
        "\t\treturn self._obs()\n",
        "\n",
        "\tdef step(self, a):\n",
        "\t\t'''\n",
        "\t\ta: action, a scalar\n",
        "\t\treturn obs, reward, done, info\n",
        "\t\t- done: whether the state has reached the goal\n",
        "\t\t- info: succ if the state has reached the goal, fail otherwise\n",
        "\t\t'''\n",
        "\t\tassert self.action_space.contains(a)\n",
        "\n",
        "\t\t# WRITE CODE HERE\n",
        "\t\tdone = False\n",
        "\t\tinfo = \"fail\"\n",
        "\t\tself.t += 1\n",
        "\t\taction = self.act_set[a]\n",
        "\t\tnext = self.s + action\n",
        "\t\tif self.map[next[0], next[1]]:\n",
        "\t\t\t# valid location\n",
        "\t\t\tself.s = next\n",
        "\t\t\tif next[0] == self.g[0] and next[1] == self.g[1]:\n",
        "\t\t\t\tdone = True\n",
        "\t\t\t\tinfo = \"succ\"\n",
        "\t\tif (self.t == self.T):\n",
        "\t\t\tdone = True\n",
        "\t\t# END\n",
        "\t\treturn self._obs(), 0.0, done, info\n",
        "\n",
        "\tdef _obs(self):\n",
        "\t\treturn np.concatenate([self.s, self.g])\n",
        "\n",
        "# build env\n",
        "l, T = 5, 30\n",
        "env = FourRooms(l, T)\n",
        "### Visualize the map\n",
        "env.render_map()"
      ],
      "execution_count": 7,
      "outputs": [
        {
          "output_type": "display_data",
          "data": {
            "text/plain": [
              "<Figure size 640x480 with 1 Axes>"
            ],
            "image/png": "[encoded data removed]"
          },
          "metadata": {}
        }
      ]
    },
    {
      "cell_type": "markdown",
      "metadata": {
        "id": "nmR8ChU0fjgf"
      },
      "source": [
        "**Shortest-path search algorithm**"
      ]
    },
    {
      "cell_type": "code",
      "metadata": {
        "id": "VHsquLWoftNT"
      },
      "source": [
        "\n",
        "N = 1000\n",
        "#N = 2\n",
        "expert_trajs = []\n",
        "expert_actions = []\n",
        "\n",
        "for run in range(N):\n",
        "  s, g = env.sample_sg()\n",
        "  s = np.array(s)\n",
        "  g = np.array(g)\n",
        "  #env.reset(s, g)\n",
        "  size = 2*l + 2\n",
        "  visited = [[False for j in range(size)] for i in range(size)]\n",
        "  states = [[-1 for j in range(size)] for i in range(size)]\n",
        "  q = Queue(maxsize = size ** 2)\n",
        "  q.put((s, -1))\n",
        "  visited[s[0]][s[1]] = True\n",
        "  while not q.empty():\n",
        "    (point, prev_action) = q.get()\n",
        "\n",
        "    states[point[0]][point[1]] = prev_action\n",
        "    if point[0] == g[0] and point[1] == g[1]:\n",
        "      break\n",
        "    for a in range(4):\n",
        "      action = env.act_set[a]\n",
        "      new_point = point + action\n",
        "      if env.map[new_point[0], new_point[1]] and not visited[new_point[0]][new_point[1]]:\n",
        "        q.put((new_point, a))\n",
        "        visited[new_point[0]][new_point[1]] = True\n",
        "  expert_traj = []\n",
        "  expert_action = []\n",
        "  point = g\n",
        "  expert_traj.append(np.concatenate([g, g]))\n",
        "  expert_action.append(0) # last action does not matter\n",
        "  while (point[0] != s[0] or point[1] != s[1]):\n",
        "    a = states[point[0]][point[1]]\n",
        "    expert_action.append(a)\n",
        "    point = point - env.act_set[a]\n",
        "    expert_traj.append(np.concatenate([point, g]))\n",
        "\n",
        "  expert_traj.reverse()\n",
        "  expert_action.reverse()\n",
        "  expert_traj = np.array(expert_traj)\n",
        "  expert_action = np.array(expert_action)\n",
        "  expert_trajs.append(expert_traj)\n",
        "  expert_actions.append(expert_action)"
      ],
      "execution_count": 12,
      "outputs": []
    },
    {
      "cell_type": "markdown",
      "metadata": {
        "id": "pMT7OP0wgIiM"
      },
      "source": [
        "plot a subset of expert trajectories"
      ]
    },
    {
      "cell_type": "code",
      "metadata": {
        "id": "XNMKeW8_gLZ3",
        "outputId": "1201fa40-8ac4-4fb0-c674-8880ce0c2932",
        "colab": {
          "base_uri": "https://localhost:8080/",
          "height": 850
        }
      },
      "source": [
        "plt.style.use('default')\n",
        "\n",
        "fig, axes = plt.subplots(5,5, figsize=(10,10))\n",
        "axes = axes.reshape(-1)\n",
        "for idx, ax in enumerate(axes):\n",
        "  plot_traj(env, ax, expert_trajs[idx])\n",
        "\n",
        "plt.savefig('p2_expert_trajs.png',\n",
        "\t\t bbox_inches='tight', pad_inches=0.1, dpi=300)\n",
        "plt.show()"
      ],
      "execution_count": 13,
      "outputs": [
        {
          "output_type": "display_data",
          "data": {
            "text/plain": [
              "<Figure size 1000x1000 with 25 Axes>"
            ],
            "image/png": "[encoded data removed]"
          },
          "metadata": {}
        }
      ]
    },
    {
      "cell_type": "markdown",
      "metadata": {
        "id": "aCvA_eCQgjTI"
      },
      "source": [
        "**Train Goal-Conditioned Policy via Behavior Cloning**"
      ]
    },
    {
      "cell_type": "code",
      "metadata": {
        "id": "Q6eJJvqogqcY"
      },
      "source": [
        "def action_to_one_hot(env, action):\n",
        "    action_vec = np.zeros(env.action_space.n)\n",
        "    action_vec[action] = 1\n",
        "    return action_vec\n",
        "\n",
        "def relabel_trajectory(trajectory, actions):\n",
        "\t# trajectory: [len, 4]\n",
        "\t# actions: [len]\n",
        "\tnew_trajectory = []\n",
        "\tnew_actions = []\n",
        "\tfor i in range(1, len(trajectory)):\n",
        "\t\t# relabel for (0, i)\n",
        "\t\ttrajectory_segment = [t for t in trajectory[:i]]\n",
        "\t\taction_segment = [a for a in actions[:i]]\n",
        "\t\tnew_goal = trajectory[i]\n",
        "\t\tfor j in range(0, i):\n",
        "\t\t\ttrajectory_segment[j][2] = new_goal[0]\n",
        "\t\t\ttrajectory_segment[j][3] = new_goal[1]\n",
        "\t\tnew_trajectory.extend(copy.deepcopy(trajectory_segment))\n",
        "\t\tnew_actions.extend(action_segment)\n",
        "\treturn new_trajectory, new_actions\n",
        "\n",
        "class GCBC:\n",
        "\n",
        "\tdef __init__(self, env, expert_trajs, expert_actions, goals=None):\n",
        "\t\tself.env = env\n",
        "\t\tself.expert_trajs = expert_trajs\n",
        "\t\tself.expert_actions = expert_actions\n",
        "\t\tself.transition_num = sum(map(len, expert_actions))\n",
        "\t\tself.model = make_model(input_dim=4, out_dim=4)\n",
        "\t\t# state_dim + goal_dim = 4\n",
        "\t\t# action_choices = 4\n",
        "\n",
        "\tdef reset_model(self):\n",
        "\t\tself.model = make_model(input_dim=4, out_dim=4)\n",
        "\n",
        "\tdef generate_behavior_cloning_data(self):\n",
        "\t\t# 3 you will use action_to_one_hot() to convert scalar to vector\n",
        "\t\t# state should include goal\n",
        "\t\tself._train_states = []\n",
        "\t\tself._train_actions = []\n",
        "\n",
        "\t\tself._train_states = np.concatenate(self.expert_trajs)\n",
        "\t\tself._train_actions = np.concatenate(self.expert_actions)\n",
        "\t\tself._train_actions = [action_to_one_hot(self.env, action) for action in self._train_actions]\n",
        "\n",
        "\n",
        "\t\tself._train_states = np.array(self._train_states).astype(float) # size: (*, 4)\n",
        "\t\tself._train_actions = np.array(self._train_actions) # size: (*, 4)\n",
        "\n",
        "\tdef generate_relabel_data(self):\n",
        "\t\t# apply expert relabelling trick\n",
        "\t\tself._train_states = []\n",
        "\t\tself._train_actions = []\n",
        "\n",
        "\n",
        "\t\tfor i in range(len(self.expert_trajs)):\n",
        "\t\t\tnew_trajectory, new_actions = relabel_trajectory(self.expert_trajs[i], self.expert_actions[i])\n",
        "\t\t\tself._train_states.extend(new_trajectory)\n",
        "\t\t\tself._train_actions.extend(new_actions)\n",
        "\t\tself._train_actions = [action_to_one_hot(self.env, action) for action in self._train_actions]\n",
        "\n",
        "\t\tself._train_states = np.array(self._train_states).astype(float) # size: (*, 4)\n",
        "\t\tself._train_actions = np.array(self._train_actions) # size: (*, 4)\n",
        "\n",
        "\tdef train(self, num_epochs=20, batch_size=256):\n",
        "\t\t\"\"\"\n",
        "\t\t  num_epochs: number of epochs to train on the data generated by the expert.\n",
        "\t\t\tbatch_size\n",
        "\t\tReturn:\n",
        "\t\t  loss: (float) final loss of the trained policy.\n",
        "\t\t  acc: (float) final accuracy of the trained policy\n",
        "\t\t\"\"\"\n",
        "\t\thistory = self.model.fit(self._train_states, self._train_actions, epochs=num_epochs, batch_size=batch_size, verbose=0)\n",
        "\t\tloss = history.history['loss'][-1]\n",
        "\t\tacc = history.history['accuracy'][-1]\n",
        "\t\treturn loss, acc\n",
        "\n",
        "# new_trajectory, new_actions = \\\n",
        "\trelabel_trajectory([[1, 1, 3, 3], [1, 2, 3, 3], [1, 3, 3, 3], [2, 3, 3, 3], [3, 3, 3, 3]],\n",
        "                   [1, 1, 2, 2, 0])\n",
        "# print(new_trajectory)\n",
        "# print(new_actions)"
      ],
      "execution_count": 22,
      "outputs": []
    },
    {
      "cell_type": "markdown",
      "metadata": {
        "id": "tneLt4i4g3R6"
      },
      "source": [
        "Implement evaluation function\n",
        "\n"
      ]
    },
    {
      "cell_type": "code",
      "metadata": {
        "id": "9iW5CqmTg5uE"
      },
      "source": [
        "def evaluate_gc(env, policy, n_episodes=50):\n",
        "\tsuccs = 0\n",
        "\tfor _ in range(n_episodes):\n",
        "\t\tinfo = generate_gc_episode(env, policy)\n",
        "\t\t# WRITE CODE HERE\n",
        "\t\tif info == \"succ\":\n",
        "\t\t\tsuccs += 1\n",
        "\t\t# END\n",
        "\tsuccs /= n_episodes\n",
        "\treturn succs\n",
        "\n",
        "def generate_gc_episode(env, policy):\n",
        "\t\"\"\"\n",
        "\tCollects one rollout from the policy in an environment\n",
        "\tArgs:\n",
        "\t\tenv: an OpenAI Gym environment.\n",
        "\t\tpolicy: a keras model\n",
        "\tReturns:\n",
        "\t\"\"\"\n",
        "\tdone = False\n",
        "\tstate = env.reset()\n",
        "\twhile not done:\n",
        "\t\t# WRITE CODE HERE\n",
        "\t\t# prev_state = state\n",
        "\t\taction_vec = policy.model(np.expand_dims(state, axis=0)) # (1, 4)\n",
        "\t\taction = tf.math.argmax(action_vec[0]).numpy()\n",
        "\t\tstate, _, done, info = env.step(action)\n",
        "\t\t# print(prev_state, env.act_set[action])\n",
        "\t\t# END\n",
        "\treturn info\n"
      ],
      "execution_count": 23,
      "outputs": []
    },
    {
      "cell_type": "markdown",
      "metadata": {
        "id": "42JGyDNWkDLV"
      },
      "source": [
        "Test GCBC using vanilla mode vs GCBC with expert relabeling trick mode\n"
      ]
    },
    {
      "cell_type": "code",
      "source": [
        "# mode = 'vanilla'\n",
        "mode = 'relabel'"
      ],
      "metadata": {
        "id": "9FZ5Que1eZV4"
      },
      "execution_count": null,
      "outputs": []
    },
    {
      "cell_type": "code",
      "source": [
        "gcbc = GCBC(env, expert_trajs, expert_actions)\n",
        "if mode == 'vanilla':\n",
        "\tgcbc.generate_behavior_cloning_data()\n",
        "else:\n",
        "\tgcbc.generate_relabel_data()\n",
        "\n",
        "print(gcbc._train_states.shape)\n",
        "\n",
        "num_seeds = 3\n",
        "loss_vecs = []\n",
        "acc_vecs = []\n",
        "succ_vecs = []\n",
        "\n",
        "for i in range(num_seeds):\n",
        "\tprint('*' * 50)\n",
        "\tprint('seed: %d' % i)\n",
        "\tloss_vec = []\n",
        "\tacc_vec = []\n",
        "\tsucc_vec = []\n",
        "\tgcbc.reset_model()\n",
        "\n",
        "\tfor e in range(200):\n",
        "\t\tloss, acc = gcbc.train(num_epochs=20)\n",
        "\t\tsucc = evaluate_gc(env, gcbc)\n",
        "\t\tloss_vec.append(loss)\n",
        "\t\tacc_vec.append(acc)\n",
        "\t\tsucc_vec.append(succ)\n",
        "\t\tprint(e, round(loss,3), round(acc,3), succ)\n",
        "\tloss_vecs.append(loss_vec)\n",
        "\tacc_vecs.append(acc_vec)\n",
        "\tsucc_vecs.append(succ_vec)\n",
        "\n",
        "loss_vec = np.mean(np.array(loss_vecs), axis = 0).tolist()\n",
        "acc_vec = np.mean(np.array(acc_vecs), axis = 0).tolist()\n",
        "succ_vec = np.mean(np.array(succ_vecs), axis = 0).tolist()\n"
      ],
      "metadata": {
        "id": "BJnBFGLbeH8g"
      },
      "execution_count": null,
      "outputs": []
    },
    {
      "cell_type": "code",
      "metadata": {
        "id": "WgQJ5PY4aJv9",
        "outputId": "7b79f938-9d47-4313-f8ba-eb7900aee75f",
        "colab": {
          "base_uri": "https://localhost:8080/",
          "height": 291
        }
      },
      "source": [
        "### Plot the results\n",
        "plt.figure(figsize=(12, 3))\n",
        "plt.style.use('ggplot')\n",
        "plt.plot(loss_vec, color='black', label=\"Loss\")\n",
        "plt.plot(acc_vec, color='red', label=\"Accuracy\")\n",
        "plt.plot(uniform_filter(succ_vec, 5), color='blue', label=\"Success, smoothed\")\n",
        "plt.xlabel(\"Iteration\")\n",
        "plt.ylabel(\"Value\")\n",
        "plt.title(\"Loss, accuracy, and success rate across iterations\")\n",
        "plt.legend()\n",
        "plt.savefig('p2_gcbc_%s.png' % mode, dpi=300)\n",
        "plt.show()"
      ],
      "execution_count": null,
      "outputs": [
        {
          "output_type": "display_data",
          "data": {
            "image/png": "[encoded data removed]",
            "text/plain": [
              "<Figure size 1200x300 with 1 Axes>"
            ]
          },
          "metadata": {
            "tags": []
          }
        }
      ]
    }
  ]
}