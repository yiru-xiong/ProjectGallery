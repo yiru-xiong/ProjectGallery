{
  "nbformat": 4,
  "nbformat_minor": 0,
  "metadata": {
    "kernelspec": {
      "name": "python3",
      "display_name": "Python 3"
    },
    "colab": {
      "provenance": [],
      "collapsed_sections": [
        "DuD-Dl3HPVdl",
        "ICipq4jh7DrZ",
        "62gnYI8sP1g6"
      ],
      "toc_visible": true,
      "machine_shape": "hm"
    },
    "language_info": {
      "name": "python"
    },
    "accelerator": "GPU"
  },
  "cells": [
    {
      "cell_type": "markdown",
      "source": [
        "## Deep Learning Classifier for Detecting DeepFake Forgeries in Videos\n",
        "\n",
        "The model implemented was adapted from MesoNet-4 architecture from this [paper](https://www.google.com/url?q=https%3A%2F%2Farxiv.org%2Fpdf%2F1809.00888.pdf) by Afchar et al."
      ],
      "metadata": {
        "id": "bay9P90s0x64"
      }
    },
    {
      "cell_type": "markdown",
      "metadata": {
        "id": "RVRsO-i8BCVa"
      },
      "source": [
        "\n",
        "#### Overview of MesoNet-4\n",
        "\n",
        "MesoNet-4 is composed of 4 CNN layers (with MaxPooling after each layer) followed by a fully connected layer with one hidden layer which outputs the probability of an image being real or fake.  \n",
        "\n",
        "#### Architecture\n",
        "\n",
        "Below is a figure from the paper detailing the network architecture.\n",
        "\n",
        "<center><img src=\"https://drive.google.com/uc?export=view&id=1My8UQ-l3FijeBRGTG_YhoaY4JnA3xpP8\" width=400/></center>\n",
        "\n",
        "#### Dataset\n",
        "The dataset has been provided by the MesoNet authors. The colored face images are aligned, of size `256x256`. Training and testing datasets include both real and deepfaked images"
      ]
    },
    {
      "cell_type": "code",
      "metadata": {
        "colab": {
          "base_uri": "https://localhost:8080/"
        },
        "id": "Ua_u2J4HZACM",
        "outputId": "12a6c7ab-6d3c-43de-d302-d53a9c6dd3ec"
      },
      "source": [
        "# Check if GPU exists - Tesla 4\n",
        "!nvidia-smi"
      ],
      "execution_count": 3,
      "outputs": [
        {
          "output_type": "stream",
          "name": "stdout",
          "text": [
            "Mon Aug 19 13:35:38 2024       \n",
            "+---------------------------------------------------------------------------------------+\n",
            "| NVIDIA-SMI 535.104.05             Driver Version: 535.104.05   CUDA Version: 12.2     |\n",
            "|-----------------------------------------+----------------------+----------------------+\n",
            "| GPU  Name                 Persistence-M | Bus-Id        Disp.A | Volatile Uncorr. ECC |\n",
            "| Fan  Temp   Perf          Pwr:Usage/Cap |         Memory-Usage | GPU-Util  Compute M. |\n",
            "|                                         |                      |               MIG M. |\n",
            "|=========================================+======================+======================|\n",
            "|   0  Tesla T4                       Off | 00000000:00:04.0 Off |                    0 |\n",
            "| N/A   67C    P8              10W /  70W |      0MiB / 15360MiB |      0%      Default |\n",
            "|                                         |                      |                  N/A |\n",
            "+-----------------------------------------+----------------------+----------------------+\n",
            "                                                                                         \n",
            "+---------------------------------------------------------------------------------------+\n",
            "| Processes:                                                                            |\n",
            "|  GPU   GI   CI        PID   Type   Process name                            GPU Memory |\n",
            "|        ID   ID                                                             Usage      |\n",
            "|=======================================================================================|\n",
            "|  No running processes found                                                           |\n",
            "+---------------------------------------------------------------------------------------+\n"
          ]
        }
      ]
    },
    {
      "cell_type": "code",
      "source": [
        "# set the seed to get reproducable results\n",
        "from numpy.random import seed\n",
        "seed(1)\n",
        "#from tensorflow import set_random_seed\n",
        "import tensorflow\n",
        "tensorflow.random.set_seed(2)"
      ],
      "metadata": {
        "id": "cvAZka3r4jf5"
      },
      "execution_count": 18,
      "outputs": []
    },
    {
      "cell_type": "code",
      "source": [
        "import tensorflow as tf"
      ],
      "metadata": {
        "id": "mtL_Ka963QDS"
      },
      "execution_count": 19,
      "outputs": []
    },
    {
      "cell_type": "code",
      "source": [
        "import keras"
      ],
      "metadata": {
        "id": "2d5ShNUE4FU8"
      },
      "execution_count": 20,
      "outputs": []
    },
    {
      "cell_type": "code",
      "source": [
        "from keras.models import Model"
      ],
      "metadata": {
        "id": "wUJoiI0F4Gzw"
      },
      "execution_count": 21,
      "outputs": []
    },
    {
      "cell_type": "code",
      "source": [
        "from tensorflow.keras.preprocessing.image import ImageDataGenerator\n",
        "# get keras layers\n",
        "from keras.layers import Input, Dense, Flatten, Conv2D, MaxPooling2D, BatchNormalization, Dropout, Reshape, Concatenate, LeakyReLU\n",
        "# we will use the Adam optimizer for this assignment\n",
        "from keras.optimizers import Adam"
      ],
      "metadata": {
        "id": "hC3ZY59e4VzB"
      },
      "execution_count": 23,
      "outputs": []
    },
    {
      "cell_type": "code",
      "metadata": {
        "id": "TRMrEVV_BCWN"
      },
      "source": [
        "# define the image width\n",
        "IMAGE_WIDTH = 256\n",
        "# define the image height\n",
        "IMAGE_HEIGHT = 256\n",
        "# define the image channels\n",
        "IMAGE_CHANNELS = 3\n",
        "# define the learning rate\n",
        "LEARNING_RATE = 0.0001\n",
        "# batch size for the ImageDataGenerator\n",
        "BATCHSIZE = 30"
      ],
      "execution_count": 25,
      "outputs": []
    },
    {
      "cell_type": "code",
      "metadata": {
        "id": "ugqEwMTeBCWZ"
      },
      "source": [
        "class MesoNet4:\n",
        "    def __init__(self):\n",
        "        self.model = self.get_model()\n",
        "\n",
        "    def get_model(self):\n",
        "        x = Input(shape = (IMAGE_WIDTH, IMAGE_HEIGHT, IMAGE_CHANNELS))\n",
        "\n",
        "        # first block\n",
        "        layer1 = Conv2D(8, (3,3), padding='same', activation='relu')(x)\n",
        "        layer1 = BatchNormalization()(layer1)\n",
        "        layer1 = MaxPooling2D(pool_size=(2,2), padding='same')(layer1)\n",
        "\n",
        "        # second block\n",
        "        layer2 = Conv2D(8, (5,5), padding='same', activation='relu')(layer1)\n",
        "        layer2 = BatchNormalization()(layer2)\n",
        "        layer2 = MaxPooling2D(pool_size=(2,2), padding='same')(layer2)\n",
        "\n",
        "        # thrid block\n",
        "        layer3 = Conv2D(16, (5,5), padding='same', activation='relu')(layer2)\n",
        "        layer3 = BatchNormalization()(layer3)\n",
        "        layer3 = MaxPooling2D(pool_size=(2,2), padding='same')(layer3)\n",
        "\n",
        "        # fourth block\n",
        "        layer4 = Conv2D(16, (5,5), padding='same', activation='relu')(layer3)\n",
        "        layer4 = BatchNormalization()(layer4)\n",
        "        conv_output = MaxPooling2D(pool_size=(4,4), padding='same')(layer4)\n",
        "\n",
        "        # conv_output is the output of the last maxpool\n",
        "        # we need to fallen the output of the conv layers\n",
        "        y = Flatten()(conv_output)\n",
        "        # add dropout layer\n",
        "        y = Dropout(0.5)(y)\n",
        "        # ADD THE FULLY CONNECTED 16\n",
        "        y = Dense(16)(y)\n",
        "        # add another dropout layer\n",
        "        y = Dropout(0.5)(y)\n",
        "\n",
        "        # y is the output of Dropout\n",
        "        # we add one dense layer with sigmoid\n",
        "        y = Dense(1, activation = 'sigmoid')(y)\n",
        "        # now we return the model\n",
        "        return Model(inputs = x, outputs = y)"
      ],
      "execution_count": 26,
      "outputs": []
    },
    {
      "cell_type": "code",
      "metadata": {
        "id": "7KikeDECBCWg",
        "colab": {
          "base_uri": "https://localhost:8080/"
        },
        "outputId": "e066cab0-8cff-4cb2-a5b4-c3457ce22175"
      },
      "source": [
        "train_datagen = ImageDataGenerator(rescale=1./255)\n",
        "train_generator = train_datagen.flow_from_directory(\"/content/drive/MyDrive/data/train/\",\n",
        "                                                    target_size = (256, 256),\n",
        "                                                    batch_size = BATCHSIZE,\n",
        "                                                    class_mode = 'binary')\n"
      ],
      "execution_count": null,
      "outputs": [
        {
          "output_type": "stream",
          "text": [
            "Found 3525 images belonging to 2 classes.\n"
          ],
          "name": "stdout"
        }
      ]
    },
    {
      "cell_type": "code",
      "metadata": {
        "colab": {
          "base_uri": "https://localhost:8080/"
        },
        "id": "6BnslfNmEijK",
        "outputId": "08a67502-5d6a-4fdf-b6d5-46a56baab256"
      },
      "source": [
        "test_datagen = ImageDataGenerator(rescale=1./255)\n",
        "test_generator = test_datagen.flow_from_directory(\"/content/drive/MyDrive/data/test/\",\n",
        "                                                    target_size = (256, 256),\n",
        "                                                    batch_size = BATCHSIZE,\n",
        "                                                    class_mode = 'binary')\n"
      ],
      "execution_count": null,
      "outputs": [
        {
          "output_type": "stream",
          "text": [
            "Found 880 images belonging to 2 classes.\n"
          ],
          "name": "stdout"
        }
      ]
    },
    {
      "cell_type": "code",
      "metadata": {
        "colab": {
          "base_uri": "https://localhost:8080/"
        },
        "id": "Mnugq02fFDmB",
        "outputId": "76be38e0-7412-4526-fcbe-ef118c0b237d"
      },
      "source": [
        "# check the data\n",
        "train_generator.class_indices"
      ],
      "execution_count": null,
      "outputs": [
        {
          "output_type": "execute_result",
          "data": {
            "text/plain": [
              "{'fake': 0, 'real': 1}"
            ]
          },
          "metadata": {
            "tags": []
          },
          "execution_count": 7
        }
      ]
    },
    {
      "cell_type": "code",
      "metadata": {
        "colab": {
          "base_uri": "https://localhost:8080/"
        },
        "id": "Uk3g2OLyFKH4",
        "outputId": "a8f32d2b-5b36-4e32-9468-43fd49cb9a4c"
      },
      "source": [
        "test_generator.class_indices"
      ],
      "execution_count": null,
      "outputs": [
        {
          "output_type": "execute_result",
          "data": {
            "text/plain": [
              "{'fake': 0, 'real': 1}"
            ]
          },
          "metadata": {
            "tags": []
          },
          "execution_count": 8
        }
      ]
    },
    {
      "cell_type": "code",
      "metadata": {
        "id": "o2YvnYPpBCWp"
      },
      "source": [
        "## define an optimizer\n",
        "opt = Adam(learning_rate=LEARNING_RATE)"
      ],
      "execution_count": null,
      "outputs": []
    },
    {
      "cell_type": "code",
      "metadata": {
        "id": "hBo90-CQBCWu"
      },
      "source": [
        "## Compile the model\n",
        "NETWORK = MesoNet4()\n",
        "NETWORK.model.compile(optimizer = opt, loss = 'mean_squared_error', metrics = ['accuracy'])"
      ],
      "execution_count": null,
      "outputs": []
    },
    {
      "cell_type": "markdown",
      "source": [
        "## Train the model"
      ],
      "metadata": {
        "id": "KVfapGRd5RaZ"
      }
    },
    {
      "cell_type": "code",
      "metadata": {
        "id": "MP3QQ2keBCW3",
        "colab": {
          "base_uri": "https://localhost:8080/"
        },
        "outputId": "9592c753-d4e6-4ea5-d1d0-5cac32d763e4"
      },
      "source": [
        "# use NETWORK.model to access the model\n",
        "# loss: 0.0604 - accuracy: 0.9325\n",
        "EPOCHS = 3\n",
        "trainer = NETWORK.model.fit_generator(generator=train_generator,\n",
        "                                      steps_per_epoch = len(train_generator),\n",
        "                                      epochs = EPOCHS,\n",
        "                                      verbose =1)"
      ],
      "execution_count": null,
      "outputs": [
        {
          "output_type": "stream",
          "text": [
            "WARNING:tensorflow:From <ipython-input-11-be49ddd3cb14>:7: Model.fit_generator (from tensorflow.python.keras.engine.training) is deprecated and will be removed in a future version.\n",
            "Instructions for updating:\n",
            "Please use Model.fit, which supports generators.\n",
            "Epoch 1/3\n",
            "118/118 [==============================] - 12s 104ms/step - loss: 0.2563 - accuracy: 0.7101\n",
            "Epoch 2/3\n",
            "118/118 [==============================] - 13s 106ms/step - loss: 0.0830 - accuracy: 0.9058\n",
            "Epoch 3/3\n",
            "118/118 [==============================] - 12s 106ms/step - loss: 0.0604 - accuracy: 0.9325\n"
          ],
          "name": "stdout"
        }
      ]
    },
    {
      "cell_type": "code",
      "metadata": {
        "colab": {
          "base_uri": "https://localhost:8080/"
        },
        "id": "2oEwk1NlNSeR",
        "outputId": "d177faa3-1c14-40b9-bf51-b9d160fba949"
      },
      "source": [
        "NETWORK.model.save(\"/content/drive/MyDrive/meso\")\n",
        "NETWORK.model.save_weights(\"/content/drive/MyDrive/meso_weights\")"
      ],
      "execution_count": null,
      "outputs": [
        {
          "output_type": "stream",
          "text": [
            "WARNING:tensorflow:From /usr/local/lib/python3.7/dist-packages/tensorflow/python/training/tracking/tracking.py:111: Model.state_updates (from tensorflow.python.keras.engine.training) is deprecated and will be removed in a future version.\n",
            "Instructions for updating:\n",
            "This property should not be used in TensorFlow 2.0, as updates are applied automatically.\n",
            "WARNING:tensorflow:From /usr/local/lib/python3.7/dist-packages/tensorflow/python/training/tracking/tracking.py:111: Layer.updates (from tensorflow.python.keras.engine.base_layer) is deprecated and will be removed in a future version.\n",
            "Instructions for updating:\n",
            "This property should not be used in TensorFlow 2.0, as updates are applied automatically.\n",
            "INFO:tensorflow:Assets written to: /content/drive/MyDrive/meso/assets\n"
          ],
          "name": "stdout"
        }
      ]
    },
    {
      "cell_type": "markdown",
      "source": [
        "## Test the model"
      ],
      "metadata": {
        "id": "H75o41jd5Nd6"
      }
    },
    {
      "cell_type": "code",
      "metadata": {
        "id": "XdR_RrcXBCXB",
        "colab": {
          "base_uri": "https://localhost:8080/"
        },
        "outputId": "19f9434d-8189-425d-ab7d-45424d553419"
      },
      "source": [
        "# use NETWORK.model to access the model\n",
        "# loss and metrics(accuracy)\n",
        "test_scores = NETWORK.model.evaluate_generator(generator=test_generator)\n",
        "print(\"The accuracy of the trained model is: \", test_scores[1])"
      ],
      "execution_count": null,
      "outputs": [
        {
          "output_type": "stream",
          "text": [
            "WARNING:tensorflow:From <ipython-input-12-1ea9494122ca>:3: Model.evaluate_generator (from tensorflow.python.keras.engine.training) is deprecated and will be removed in a future version.\n",
            "Instructions for updating:\n",
            "Please use Model.evaluate, which supports generators.\n",
            "The accuracy of the trained model is:  0.8409090638160706\n"
          ],
          "name": "stdout"
        }
      ]
    },
    {
      "cell_type": "markdown",
      "metadata": {
        "id": "ElIGhW9ZYR0v"
      },
      "source": [
        "The training accuracy is 0.9325, and the accuracy of the trained model on test data is 0.8409090638160706"
      ]
    }
  ]
}